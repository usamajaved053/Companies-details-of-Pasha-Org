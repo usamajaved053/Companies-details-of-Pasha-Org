{
 "cells": [
  {
   "cell_type": "markdown",
   "metadata": {},
   "source": [
    "### Imports"
   ]
  },
  {
   "cell_type": "code",
   "execution_count": 46,
   "metadata": {},
   "outputs": [],
   "source": [
    "import requests as r\n",
    "from bs4 import BeautifulSoup\n",
    "import csv"
   ]
  },
  {
   "cell_type": "markdown",
   "metadata": {},
   "source": [
    "### Get URLs of all companies"
   ]
  },
  {
   "cell_type": "code",
   "execution_count": 47,
   "metadata": {},
   "outputs": [],
   "source": [
    "total_pages = 1  # Enter number of pages\n",
    "urls = []\n",
    "\n",
    "for num in range (1, total_pages + 1):\n",
    "    url = f'http://www.pasha.org.pk/d/all/?_page={num}'\n",
    "    page = r.get(url=url)\n",
    "\n",
    "    # Extract Individual URL of each company\n",
    "    soup = BeautifulSoup(page.content)\n",
    "    for a in soup.find_all('a', {'title' : \"Learn More\"}, href=True):\n",
    "        urls.append(a['href'])"
   ]
  },
  {
   "cell_type": "markdown",
   "metadata": {},
   "source": [
    "### Get contact details of each company"
   ]
  },
  {
   "cell_type": "code",
   "execution_count": 52,
   "metadata": {},
   "outputs": [],
   "source": [
    "for url in urls:\n",
    "    page = r.get(url=url)\n",
    "    soup = BeautifulSoup(page.content)\n",
    "\n",
    "    # Extract contact info\n",
    "    try:\n",
    "        loc = soup.find('div', {'class':'detailed-page-location'}).text\n",
    "    except:\n",
    "        loc = ''\n",
    "    \n",
    "    try:\n",
    "        tel = soup.find('div', {'class':'drts-display-element-entity_field_field_phone-1'}).text\n",
    "    except:\n",
    "        tel = ''\n",
    "\n",
    "    try:\n",
    "        email = soup.find('div', {'class':'drts-display-element-entity_field_field_email-1'}).text\n",
    "    except:\n",
    "        email = ''\n",
    "\n",
    "    try:\n",
    "        web = soup.find('div', {'class':'drts-display-element-entity_field_field_website-1'}).text\n",
    "    except:\n",
    "        web = ''\n",
    "\n",
    "    # Save to csv\n",
    "    with open('data.csv', 'a+', newline='', encoding='utf-8') as f:\n",
    "        writer = csv.writer(f)\n",
    "        writer.writerow([str(email), str(tel), str(web), str(loc)])"
   ]
  }
 ],
 "metadata": {
  "kernelspec": {
   "display_name": "Python 3.10.6 ('venv': venv)",
   "language": "python",
   "name": "python3"
  },
  "language_info": {
   "codemirror_mode": {
    "name": "ipython",
    "version": 3
   },
   "file_extension": ".py",
   "mimetype": "text/x-python",
   "name": "python",
   "nbconvert_exporter": "python",
   "pygments_lexer": "ipython3",
   "version": "3.10.6"
  },
  "orig_nbformat": 4,
  "vscode": {
   "interpreter": {
    "hash": "f291c380925471ff3a95e3e7430f1cfff45c0c68be3d88bdfeeda75f47c77293"
   }
  }
 },
 "nbformat": 4,
 "nbformat_minor": 2
}
